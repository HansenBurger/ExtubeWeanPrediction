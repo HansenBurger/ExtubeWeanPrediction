{
 "cells": [
  {
   "cell_type": "code",
   "execution_count": 1,
   "metadata": {},
   "outputs": [],
   "source": [
    "import numpy as np\n",
    "import pandas as pd\n",
    "from pathlib import Path\n",
    "from Classes.Domain import layer_3\n",
    "from Classes.TypesInstant import RecordInfo\n",
    "from Classes.ExtractSplice import ExtractSplice\n",
    "from Classes.Func.KitTools import TimeShift, ConfigRead\n",
    "from Classes.Func.DiagramsGen import PlotMain\n",
    "from Classes.Func.CalculatePart import FreqPreMethod"
   ]
  },
  {
   "cell_type": "code",
   "execution_count": 2,
   "metadata": {},
   "outputs": [],
   "source": [
    "file_name = r'C:\\Users\\HY_Burger\\Desktop\\Project\\extube_sump12.csv'\n",
    "data_loc = Path(ConfigRead('WaveData', 'Extube'))\n",
    "vm_list = ['SPONT', 'CPAP', 'APNEA VENTILATION']\n",
    "def PatientGen(gp, pid):\n",
    "    df = gp.get_group(pid)\n",
    "    df = df.reset_index(drop=True)\n",
    "    rid = df.Record_id.unique()[0]\n",
    "    pid_obj = layer_3.Patient()\n",
    "    pid_obj.pid = pid\n",
    "    pid_obj.end_t = df.endo_t[0]\n",
    "    pid_obj.end_i = df.endo_end.unique()[0]\n",
    "    rid_p = RecordInfo(data_loc, pid_obj.end_t, rid)\n",
    "    rid_p.ParametersInit()\n",
    "    pid_obj.ridrec = rid_p.rec\n",
    "    return pid_obj\n",
    "def RecordGet(pid):\n",
    "    df = pd.read_csv(file_name)\n",
    "    df.endo_end = np.where(df.endo_end.str.contains('成功'), 0, 1)\n",
    "    TimeShift(df, ['endo_t', 'END_t', 'Resp_t'])\n",
    "    gp = df.groupby('PID')\n",
    "    id_list = gp.get_group(pid).zdt_1.tolist()\n",
    "    pid_obj = PatientGen(gp, pid)\n",
    "    process_0 = ExtractSplice(pid_obj.ridrec)\n",
    "    process_0.RecBatchesExtract(id_list, 1800)\n",
    "    pid_obj.resp_l = process_0.RespSplicing(1800, vm_list)\n",
    "    return pid_obj.resp_l"
   ]
  },
  {
   "cell_type": "code",
   "execution_count": 3,
   "metadata": {},
   "outputs": [],
   "source": [
    "resp_l = RecordGet(1157905)\n",
    "rr = np.array([i.rr for i in resp_l])\n",
    "v_t = np.array([i.v_t_i for i in resp_l])\n",
    "ve = np.array([i.ve for i in resp_l])\n",
    "wid_l = [round(i.wid) for i in resp_l]\n",
    "t_ind = np.array([sum(wid_l[0:i])for i in range(len(wid_l))])\n",
    "df = pd.DataFrame({'t_ind':t_ind,'rr':rr, 'v_t':v_t, 've':ve})"
   ]
  },
  {
   "cell_type": "markdown",
   "metadata": {},
   "source": [
    "ReSample Processing"
   ]
  },
  {
   "cell_type": "code",
   "execution_count": 4,
   "metadata": {},
   "outputs": [],
   "source": [
    "rs_p = FreqPreMethod(df.t_ind, df.rr, slice(300, 550, 1))\n",
    "rs_p.InterpValue(100)\n",
    "rs_p.Resampling(4)"
   ]
  },
  {
   "cell_type": "code",
   "execution_count": 5,
   "metadata": {},
   "outputs": [
    {
     "ename": "TypeError",
     "evalue": "unsupported operand type(s) for /: 'NoneType' and 'str'",
     "output_type": "error",
     "traceback": [
      "\u001b[1;31m---------------------------------------------------------------------------\u001b[0m",
      "\u001b[1;31mTypeError\u001b[0m                                 Traceback (most recent call last)",
      "\u001b[1;32m<ipython-input-5-6495134d3ed3>\u001b[0m in \u001b[0;36m<module>\u001b[1;34m\u001b[0m\n\u001b[0;32m      1\u001b[0m \u001b[0mpl_P\u001b[0m \u001b[1;33m=\u001b[0m \u001b[0mPlotMain\u001b[0m\u001b[1;33m(\u001b[0m\u001b[1;33m)\u001b[0m\u001b[1;33m\u001b[0m\u001b[1;33m\u001b[0m\u001b[0m\n\u001b[1;32m----> 2\u001b[1;33m \u001b[0mpl_P\u001b[0m\u001b[1;33m.\u001b[0m\u001b[0mlmplot\u001b[0m\u001b[1;33m(\u001b[0m\u001b[1;34m'time'\u001b[0m\u001b[1;33m,\u001b[0m \u001b[1;34m'value'\u001b[0m\u001b[1;33m,\u001b[0m \u001b[0mrs_p\u001b[0m\u001b[1;33m.\u001b[0m\u001b[0mdf\u001b[0m\u001b[1;33m,\u001b[0m \u001b[1;34m'xxx'\u001b[0m\u001b[1;33m)\u001b[0m\u001b[1;33m\u001b[0m\u001b[1;33m\u001b[0m\u001b[0m\n\u001b[0m",
      "\u001b[1;32mc:\\Users\\HY_Burger\\Desktop\\Project\\ExtubeWeanPrediction\\Classes\\Func\\DiagramsGen.py\u001b[0m in \u001b[0;36mlmplot\u001b[1;34m(self, x_label, y_label, df, fig_name)\u001b[0m\n\u001b[0;32m     18\u001b[0m \u001b[1;33m\u001b[0m\u001b[0m\n\u001b[0;32m     19\u001b[0m     \u001b[1;32mdef\u001b[0m \u001b[0mlmplot\u001b[0m\u001b[1;33m(\u001b[0m\u001b[0mself\u001b[0m\u001b[1;33m,\u001b[0m \u001b[0mx_label\u001b[0m\u001b[1;33m,\u001b[0m \u001b[0my_label\u001b[0m\u001b[1;33m,\u001b[0m \u001b[0mdf\u001b[0m\u001b[1;33m,\u001b[0m \u001b[0mfig_name\u001b[0m\u001b[1;33m)\u001b[0m\u001b[1;33m:\u001b[0m\u001b[1;33m\u001b[0m\u001b[1;33m\u001b[0m\u001b[0m\n\u001b[1;32m---> 20\u001b[1;33m         \u001b[0msave_loc\u001b[0m \u001b[1;33m=\u001b[0m \u001b[0mself\u001b[0m\u001b[1;33m.\u001b[0m\u001b[0m__safe_loc\u001b[0m \u001b[1;33m/\u001b[0m \u001b[1;33m(\u001b[0m\u001b[0mfig_name\u001b[0m \u001b[1;33m+\u001b[0m \u001b[1;34m'.png'\u001b[0m\u001b[1;33m)\u001b[0m\u001b[1;33m\u001b[0m\u001b[1;33m\u001b[0m\u001b[0m\n\u001b[0m\u001b[0;32m     21\u001b[0m         \u001b[0msns\u001b[0m\u001b[1;33m.\u001b[0m\u001b[0mset_theme\u001b[0m\u001b[1;33m(\u001b[0m\u001b[0mstyle\u001b[0m\u001b[1;33m=\u001b[0m\u001b[1;34m'whitegrid'\u001b[0m\u001b[1;33m)\u001b[0m\u001b[1;33m\u001b[0m\u001b[1;33m\u001b[0m\u001b[0m\n\u001b[0;32m     22\u001b[0m         sns.lmplot(x=x_label,\n",
      "\u001b[1;31mTypeError\u001b[0m: unsupported operand type(s) for /: 'NoneType' and 'str'"
     ]
    }
   ],
   "source": [
    "pl_P = PlotMain()\n",
    "pl_P.lmplot('time', 'value', rs_p.df, 'xxx')"
   ]
  },
  {
   "cell_type": "code",
   "execution_count": null,
   "metadata": {},
   "outputs": [],
   "source": []
  }
 ],
 "metadata": {
  "interpreter": {
   "hash": "fc883ce4be776a00668950b7133d030a15826a94400e8f6b01ca8fd8f53ab3b3"
  },
  "kernelspec": {
   "display_name": "Python 3.8.8 ('DF_process')",
   "language": "python",
   "name": "python3"
  },
  "language_info": {
   "codemirror_mode": {
    "name": "ipython",
    "version": 3
   },
   "file_extension": ".py",
   "mimetype": "text/x-python",
   "name": "python",
   "nbconvert_exporter": "python",
   "pygments_lexer": "ipython3",
   "version": "3.8.8"
  },
  "orig_nbformat": 4
 },
 "nbformat": 4,
 "nbformat_minor": 2
}
