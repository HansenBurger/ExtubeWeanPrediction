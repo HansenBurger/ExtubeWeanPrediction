{
 "cells": [
  {
   "cell_type": "code",
   "execution_count": 1,
   "metadata": {},
   "outputs": [],
   "source": [
    "import pandas as pd\n",
    "from pathlib import Path\n",
    "from Classes.Func import kit, variability\n",
    "from Classes.Domain import layer_0, layer_1, layer_2\n",
    "from WaveDataProcess import BinImport\n",
    "df = pd.read_csv('1.csv')\n",
    "kit.TimeShift(df, ['endo_t', 'END_t', 'Resp_t'])\n",
    "gp = df.groupby('PID')"
   ]
  },
  {
   "cell_type": "code",
   "execution_count": 2,
   "metadata": {},
   "outputs": [],
   "source": [
    "def GetGp(pid):\n",
    "    df = gp.get_group(pid)\n",
    "    return df"
   ]
  },
  {
   "cell_type": "code",
   "execution_count": 3,
   "metadata": {},
   "outputs": [],
   "source": [
    "df_ = GetGp(2317017)\n",
    "df_ = df_.reset_index(drop=True)\n",
    "df_ = df_.loc[::-1].reset_index(drop=True)\n",
    "pid = df_.PID.unique().item()\n",
    "icu = df_.ICU.unique().item()\n",
    "end_t = df_.endo_t[0] # get by row not unique\n",
    "end_i = df_.endo_end.unique().item()\n",
    "rid_s = df_.Record_id.unique()[0]\n",
    "result = None\n",
    "\n",
    "file_loc = Path(kit.ConfigRead('WaveData', 'Extube'))"
   ]
  },
  {
   "cell_type": "code",
   "execution_count": 19,
   "metadata": {},
   "outputs": [
    {
     "name": "stdout",
     "output_type": "stream",
     "text": [
      "File passes validation !\n",
      "File passes validation !\n"
     ]
    }
   ],
   "source": [
    "recid = layer_2.RidRec()\n",
    "recid.zif = file_loc / (str(end_t.year) + str(end_t.month).rjust(2, '0')) / rid_s / (rid_s+'.zif')\n",
    "recid.cls_t = pd.DataFrame(BinImport.RidData(recid.zif).RecordListGet()).s_t.max()\n",
    "recid.vm_n = BinImport.RidData(recid.zif).RecordInfoGet()['m_n']"
   ]
  },
  {
   "cell_type": "code",
   "execution_count": 20,
   "metadata": {},
   "outputs": [
    {
     "name": "stdout",
     "output_type": "stream",
     "text": [
      "File passes validation !\n"
     ]
    }
   ],
   "source": [
    "import numpy as np\n",
    "import instantiation as instan\n",
    "wave_p = instan.RecordResp(recid.zif.parent, df_.zdt_1[0])\n",
    "wave_p.WaveformInit()\n",
    "wave_p.IndicatorCalculate()\n",
    "rec_wave = wave_p.rec"
   ]
  },
  {
   "cell_type": "code",
   "execution_count": 21,
   "metadata": {},
   "outputs": [],
   "source": [
    "resp_l = [i for i in rec_wave.resps if i.val]"
   ]
  },
  {
   "cell_type": "code",
   "execution_count": 22,
   "metadata": {},
   "outputs": [],
   "source": [
    "still_t = np.sum(np.array([i.wid for i in resp_l]))"
   ]
  },
  {
   "cell_type": "code",
   "execution_count": 25,
   "metadata": {},
   "outputs": [
    {
     "name": "stdout",
     "output_type": "stream",
     "text": [
      "File passes validation !\n"
     ]
    },
    {
     "ename": "IndexError",
     "evalue": "index 0 is out of bounds for axis 0 with size 0",
     "output_type": "error",
     "traceback": [
      "\u001b[1;31m---------------------------------------------------------------------------\u001b[0m",
      "\u001b[1;31mIndexError\u001b[0m                                Traceback (most recent call last)",
      "\u001b[1;32m<ipython-input-25-4b32a3e195fa>\u001b[0m in \u001b[0;36m<module>\u001b[1;34m\u001b[0m\n\u001b[0;32m      1\u001b[0m \u001b[0mpara_p\u001b[0m \u001b[1;33m=\u001b[0m \u001b[0minstan\u001b[0m\u001b[1;33m.\u001b[0m\u001b[0mRecordPara\u001b[0m\u001b[1;33m(\u001b[0m\u001b[0mrecid\u001b[0m\u001b[1;33m.\u001b[0m\u001b[0mzif\u001b[0m\u001b[1;33m.\u001b[0m\u001b[0mparent\u001b[0m\u001b[1;33m,\u001b[0m \u001b[0mdf_\u001b[0m\u001b[1;33m.\u001b[0m\u001b[0mzpx_1\u001b[0m\u001b[1;33m[\u001b[0m\u001b[1;36m0\u001b[0m\u001b[1;33m]\u001b[0m\u001b[1;33m)\u001b[0m\u001b[1;33m\u001b[0m\u001b[1;33m\u001b[0m\u001b[0m\n\u001b[0;32m      2\u001b[0m \u001b[0mpara_p\u001b[0m\u001b[1;33m.\u001b[0m\u001b[0mParametersInit\u001b[0m\u001b[1;33m(\u001b[0m\u001b[0mrecid\u001b[0m\u001b[1;33m.\u001b[0m\u001b[0mvm_n\u001b[0m\u001b[1;33m)\u001b[0m\u001b[1;33m\u001b[0m\u001b[1;33m\u001b[0m\u001b[0m\n\u001b[1;32m----> 3\u001b[1;33m \u001b[0mpara_p\u001b[0m\u001b[1;33m.\u001b[0m\u001b[0mParaSelectBT\u001b[0m\u001b[1;33m(\u001b[0m\u001b[0mrec_wave\u001b[0m\u001b[1;33m.\u001b[0m\u001b[0msr\u001b[0m\u001b[1;33m,\u001b[0m\u001b[1;33m[\u001b[0m\u001b[1;36m0\u001b[0m\u001b[1;33m,\u001b[0m\u001b[1;36m600\u001b[0m\u001b[1;33m]\u001b[0m\u001b[1;33m,\u001b[0m\u001b[0mpara_p\u001b[0m\u001b[1;33m.\u001b[0m\u001b[0mrec\u001b[0m\u001b[1;33m.\u001b[0m\u001b[0mst_mode\u001b[0m\u001b[1;33m)\u001b[0m\u001b[1;33m\u001b[0m\u001b[1;33m\u001b[0m\u001b[0m\n\u001b[0m",
      "\u001b[1;32mc:\\Users\\HY_Burger\\Desktop\\Project\\ExtubeWeanPrediction\\instantiation.py\u001b[0m in \u001b[0;36mParaSelectBT\u001b[1;34m(self, SR, time_tag, para_l)\u001b[0m\n\u001b[0;32m    106\u001b[0m         \u001b[0mt_ind\u001b[0m \u001b[1;33m=\u001b[0m \u001b[0mlist\u001b[0m\u001b[1;33m(\u001b[0m\u001b[0mmap\u001b[0m\u001b[1;33m(\u001b[0m\u001b[0mmul\u001b[0m\u001b[1;33m,\u001b[0m \u001b[0mrec\u001b[0m\u001b[1;33m.\u001b[0m\u001b[0mu_ind\u001b[0m\u001b[1;33m,\u001b[0m \u001b[1;33m[\u001b[0m\u001b[1;36m1\u001b[0m \u001b[1;33m/\u001b[0m \u001b[0mSR\u001b[0m\u001b[1;33m]\u001b[0m \u001b[1;33m*\u001b[0m \u001b[0mlen\u001b[0m\u001b[1;33m(\u001b[0m\u001b[0mrec\u001b[0m\u001b[1;33m.\u001b[0m\u001b[0mu_ind\u001b[0m\u001b[1;33m)\u001b[0m\u001b[1;33m)\u001b[0m\u001b[1;33m)\u001b[0m\u001b[1;33m\u001b[0m\u001b[1;33m\u001b[0m\u001b[0m\n\u001b[0;32m    107\u001b[0m         \u001b[0ms_ind\u001b[0m \u001b[1;33m=\u001b[0m \u001b[0mLocatSimiTerms\u001b[0m\u001b[1;33m(\u001b[0m\u001b[0mt_ind\u001b[0m\u001b[1;33m,\u001b[0m \u001b[0mtime_tag\u001b[0m\u001b[1;33m)\u001b[0m\u001b[1;33m\u001b[0m\u001b[1;33m\u001b[0m\u001b[0m\n\u001b[1;32m--> 108\u001b[1;33m         \u001b[0mp_s_l\u001b[0m \u001b[1;33m=\u001b[0m \u001b[1;33m[\u001b[0m\u001b[0mpara_l\u001b[0m\u001b[1;33m[\u001b[0m\u001b[0mi\u001b[0m\u001b[1;33m]\u001b[0m \u001b[1;32mfor\u001b[0m \u001b[0mi\u001b[0m \u001b[1;32min\u001b[0m \u001b[0ms_ind\u001b[0m\u001b[1;33m]\u001b[0m\u001b[1;33m\u001b[0m\u001b[1;33m\u001b[0m\u001b[0m\n\u001b[0m\u001b[0;32m    109\u001b[0m         \u001b[1;32mreturn\u001b[0m \u001b[0mp_s_l\u001b[0m\u001b[1;33m\u001b[0m\u001b[1;33m\u001b[0m\u001b[0m\n",
      "\u001b[1;32mc:\\Users\\HY_Burger\\Desktop\\Project\\ExtubeWeanPrediction\\Classes\\Func\\kit.py\u001b[0m in \u001b[0;36mLocatSimiTerms\u001b[1;34m(l_main, l_depend)\u001b[0m\n\u001b[0;32m     33\u001b[0m     \u001b[1;32mfor\u001b[0m \u001b[0mi\u001b[0m \u001b[1;32min\u001b[0m \u001b[0ml_depend\u001b[0m\u001b[1;33m:\u001b[0m\u001b[1;33m\u001b[0m\u001b[1;33m\u001b[0m\u001b[0m\n\u001b[0;32m     34\u001b[0m         \u001b[0mclo_value\u001b[0m \u001b[1;33m=\u001b[0m \u001b[0mmin\u001b[0m\u001b[1;33m(\u001b[0m\u001b[0ml_main\u001b[0m\u001b[1;33m,\u001b[0m \u001b[0mkey\u001b[0m\u001b[1;33m=\u001b[0m\u001b[1;32mlambda\u001b[0m \u001b[0mx\u001b[0m\u001b[1;33m:\u001b[0m \u001b[0mabs\u001b[0m\u001b[1;33m(\u001b[0m\u001b[0mx\u001b[0m \u001b[1;33m-\u001b[0m \u001b[0mi\u001b[0m\u001b[1;33m)\u001b[0m\u001b[1;33m)\u001b[0m\u001b[1;33m\u001b[0m\u001b[1;33m\u001b[0m\u001b[0m\n\u001b[1;32m---> 35\u001b[1;33m         \u001b[0mclo_index\u001b[0m \u001b[1;33m=\u001b[0m \u001b[0mnp\u001b[0m\u001b[1;33m.\u001b[0m\u001b[0mwhere\u001b[0m\u001b[1;33m(\u001b[0m\u001b[0ml_main\u001b[0m \u001b[1;33m==\u001b[0m \u001b[0mclo_value\u001b[0m\u001b[1;33m)\u001b[0m\u001b[1;33m[\u001b[0m\u001b[1;36m0\u001b[0m\u001b[1;33m]\u001b[0m\u001b[1;33m[\u001b[0m\u001b[1;36m0\u001b[0m\u001b[1;33m]\u001b[0m\u001b[1;33m\u001b[0m\u001b[1;33m\u001b[0m\u001b[0m\n\u001b[0m\u001b[0;32m     36\u001b[0m         \u001b[0mindex_list\u001b[0m\u001b[1;33m.\u001b[0m\u001b[0mappend\u001b[0m\u001b[1;33m(\u001b[0m\u001b[0mclo_index\u001b[0m\u001b[1;33m)\u001b[0m\u001b[1;33m\u001b[0m\u001b[1;33m\u001b[0m\u001b[0m\n\u001b[0;32m     37\u001b[0m \u001b[1;33m\u001b[0m\u001b[0m\n",
      "\u001b[1;31mIndexError\u001b[0m: index 0 is out of bounds for axis 0 with size 0"
     ]
    }
   ],
   "source": [
    "para_p = instan.RecordPara(recid.zif.parent, df_.zpx_1[0])\n",
    "para_p.ParametersInit(recid.vm_n)\n",
    "para_p.ParaSelectBT(rec_wave.sr,[0,600],para_p.rec.st_mode)"
   ]
  },
  {
   "cell_type": "code",
   "execution_count": null,
   "metadata": {},
   "outputs": [],
   "source": []
  }
 ],
 "metadata": {
  "interpreter": {
   "hash": "fc883ce4be776a00668950b7133d030a15826a94400e8f6b01ca8fd8f53ab3b3"
  },
  "kernelspec": {
   "display_name": "Python 3.8.8 ('DF_process')",
   "language": "python",
   "name": "python3"
  },
  "language_info": {
   "codemirror_mode": {
    "name": "ipython",
    "version": 3
   },
   "file_extension": ".py",
   "mimetype": "text/x-python",
   "name": "python",
   "nbconvert_exporter": "python",
   "pygments_lexer": "ipython3",
   "version": "3.8.8"
  },
  "orig_nbformat": 4
 },
 "nbformat": 4,
 "nbformat_minor": 2
}
