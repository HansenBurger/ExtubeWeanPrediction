{
 "cells": [
  {
   "cell_type": "code",
   "execution_count": 1,
   "metadata": {},
   "outputs": [],
   "source": [
    "import numpy as np\n",
    "import pandas as pd"
   ]
  },
  {
   "cell_type": "code",
   "execution_count": 2,
   "metadata": {},
   "outputs": [],
   "source": [
    "t_ind = np.random.randint(1,4,size=[1,10])[0]\n",
    "t_val = np.random.rand(1, 10)[0]\n",
    "t_ind_s = [sum(t_ind[0:i]) for i in range(len(t_ind))]\n",
    "df = pd.DataFrame({'ind':t_ind_s, 'val':t_val})"
   ]
  },
  {
   "cell_type": "code",
   "execution_count": 3,
   "metadata": {},
   "outputs": [],
   "source": [
    "class FreqPreMethod():\n",
    "    def __init__(self, time_array, target_array, range_=slice(None)):\n",
    "        self.__time_a = time_array[range_]\n",
    "        self.__target_a = target_array[range_]\n",
    "        self.__df = None\n",
    "\n",
    "    @property\n",
    "    def df(self):\n",
    "        return self.__df\n",
    "\n",
    "    def __LenVertify(self):\n",
    "        if not len(self.__time_a) == len(self.__target_a):\n",
    "            print('Length Mismatch !')\n",
    "            return\n",
    "\n",
    "    def __SpaceGen(self, fs):\n",
    "        ind_0 = self.__time_a.min()\n",
    "        ind_1 = self.__time_a.max()\n",
    "        ind_num = (ind_1 - ind_0) * fs\n",
    "        array = np.linspace(ind_0, ind_1, ind_num, endpoint=False)\n",
    "        array = np.around(array, decimals=2)\n",
    "        return array\n",
    "\n",
    "    def InitTimeSeries(self):\n",
    "        self.__LenVertify()\n",
    "        df = pd.DataFrame({'time': self.__time_a, 'value': self.__target_a})\n",
    "        df = df.set_index('time', drop=True)\n",
    "        self.__df = df\n",
    "\n",
    "    def InterpValue(self, interp_rate):\n",
    "        self.__LenVertify()\n",
    "        array_x = self.__SpaceGen(interp_rate)\n",
    "        array_y = np.interp(array_x, self.__time_a, self.__target_a)\n",
    "        df = pd.DataFrame({'time': array_x, 'value': array_y})\n",
    "        df = df.set_index('time', drop=True)\n",
    "        self.__df = df\n",
    "\n",
    "    def Resampling(self, resample_rate):\n",
    "        self.__LenVertify()\n",
    "        df = self.__df.copy()\n",
    "        array_x = self.__SpaceGen(resample_rate)\n",
    "        array_y = np.array(df.loc[array_x].value)\n",
    "        df_ = pd.DataFrame({'time': array_x, 'value': array_y})\n",
    "        df_ = df_.set_index('time', drop=True)\n",
    "        self.__df = df_"
   ]
  },
  {
   "cell_type": "code",
   "execution_count": 4,
   "metadata": {},
   "outputs": [],
   "source": [
    "interp_p = FreqPreMethod(df.ind, df.val)\n",
    "interp_p.InterpValue(100)\n",
    "interp_p.Resampling(4)"
   ]
  },
  {
   "cell_type": "code",
   "execution_count": 6,
   "metadata": {},
   "outputs": [
    {
     "data": {
      "text/plain": [
       "0.3596069384978277"
      ]
     },
     "execution_count": 6,
     "metadata": {},
     "output_type": "execute_result"
    }
   ],
   "source": [
    "df = interp_p.df\n",
    "df.loc[0.25].value"
   ]
  },
  {
   "cell_type": "code",
   "execution_count": 30,
   "metadata": {},
   "outputs": [
    {
     "data": {
      "text/plain": [
       "array([0.57553559, 0.36872259])"
      ]
     },
     "execution_count": 30,
     "metadata": {},
     "output_type": "execute_result"
    }
   ],
   "source": [
    "a"
   ]
  },
  {
   "cell_type": "code",
   "execution_count": null,
   "metadata": {},
   "outputs": [],
   "source": []
  }
 ],
 "metadata": {
  "interpreter": {
   "hash": "fc883ce4be776a00668950b7133d030a15826a94400e8f6b01ca8fd8f53ab3b3"
  },
  "kernelspec": {
   "display_name": "Python 3.8.8 ('DF_process')",
   "language": "python",
   "name": "python3"
  },
  "language_info": {
   "codemirror_mode": {
    "name": "ipython",
    "version": 3
   },
   "file_extension": ".py",
   "mimetype": "text/x-python",
   "name": "python",
   "nbconvert_exporter": "python",
   "pygments_lexer": "ipython3",
   "version": "3.8.8"
  },
  "orig_nbformat": 4
 },
 "nbformat": 4,
 "nbformat_minor": 2
}
