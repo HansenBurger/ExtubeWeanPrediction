{
 "cells": [
  {
   "cell_type": "code",
   "execution_count": 17,
   "metadata": {},
   "outputs": [],
   "source": [
    "from WaveDataProcess.BinImport import ParaData\n",
    "zpx_ = r'C:\\Main\\Data\\_\\Baguan\\Records\\202107\\ZD88316921070400WQE\\ZD88316921070400WQE_250.zpx'\n",
    "dict_ = ParaData(zpx_).ParaInfoGet()"
   ]
  },
  {
   "cell_type": "code",
   "execution_count": 18,
   "metadata": {},
   "outputs": [],
   "source": [
    "name_l = ['uiDataIndex','bed_HR', 'bed_SBP', 'bed_DBP', 'bed_MBP', 'bed_SpO2', 'bed_RR', 'bed_PR', 'bed_CVPm']\n",
    "dict_ = {key:dict_[key]for key in name_l}"
   ]
  },
  {
   "cell_type": "code",
   "execution_count": 22,
   "metadata": {},
   "outputs": [
    {
     "name": "stdout",
     "output_type": "stream",
     "text": [
      "<class 'int'>\n"
     ]
    }
   ],
   "source": [
    "a = dict_['bed_HR'][0]\n",
    "print(type(a))"
   ]
  },
  {
   "cell_type": "code",
   "execution_count": null,
   "metadata": {},
   "outputs": [],
   "source": []
  }
 ],
 "metadata": {
  "interpreter": {
   "hash": "fc883ce4be776a00668950b7133d030a15826a94400e8f6b01ca8fd8f53ab3b3"
  },
  "kernelspec": {
   "display_name": "Python 3.8.8 ('DF_process')",
   "language": "python",
   "name": "python3"
  },
  "language_info": {
   "codemirror_mode": {
    "name": "ipython",
    "version": 3
   },
   "file_extension": ".py",
   "mimetype": "text/x-python",
   "name": "python",
   "nbconvert_exporter": "python",
   "pygments_lexer": "ipython3",
   "version": "3.8.8"
  },
  "orig_nbformat": 4
 },
 "nbformat": 4,
 "nbformat_minor": 2
}
