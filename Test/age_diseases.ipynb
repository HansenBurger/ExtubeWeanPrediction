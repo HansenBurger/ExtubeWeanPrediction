{
 "cells": [
  {
   "cell_type": "code",
   "execution_count": 27,
   "metadata": {},
   "outputs": [],
   "source": [
    "import sqlite3\n",
    "import pandas as pd\n",
    "from pathlib import Path\n",
    "db_loc = Path(r'C:\\Main\\Data\\_\\Database\\sqlite\\RespData_2205.db')\n",
    "csv_loc = Path(r'C:\\Users\\HY_Burger\\Desktop\\Project')\n",
    "def BasicQuery(table_in):\n",
    "    table_f = 'PatientInfo_Total'\n",
    "    query_ = '''\n",
    "        SELECT A.*, B.END_s\n",
    "        FROM {0} as A\n",
    "        INNER JOIN {1} as B\n",
    "        ON A.PID = B.PID\n",
    "        GROUP by A.PID\n",
    "    '''.format(table_f, table_in)\n",
    "    with sqlite3.connect(db_loc) as con:\n",
    "        df_sql = pd.read_sql(query_, con)\n",
    "    return df_sql\n",
    "remark_l = ['remark','RemarkIn','RemarkOut','RemarkInICU','RemarkOutICU']\n",
    "def NotHeadRemarkPid(df):\n",
    "    pid_ = []\n",
    "    for i in df.index:\n",
    "        row = [df.loc[i, j] for j in remark_l]\n",
    "        row = [j for j in row if j]\n",
    "        row = [False if '脑' in j or '神经' in j else True for j in row]\n",
    "        if False in row:\n",
    "            pass\n",
    "        else:\n",
    "            pid_.append(df.loc[i, 'PID'])\n",
    "    return pid_\n",
    "def InfoCollect(df):\n",
    "    info = 'Total:{0}, Succ:{1}, Fail:{2}'.format(df.shape[0], len(df[df.END_s==0]), len(df[df.END_s==1]))\n",
    "    return info"
   ]
  },
  {
   "cell_type": "code",
   "execution_count": 28,
   "metadata": {},
   "outputs": [],
   "source": [
    "def MainProcess(form_name):\n",
    "    df_0 = BasicQuery(form_name)\n",
    "    df_0.END_s = [0 if '成功' in i else 1 for i in df_0.END_s]\n",
    "    # df_1 = pd.read_csv(csv_loc/(form_name + '.csv'))\n",
    "    print('Raw: \\n' + InfoCollect(df_0))\n",
    "    df_0 = df_0[df_0.age <= 75]\n",
    "    print('Sub Old: \\n' + InfoCollect(df_0))\n",
    "    pid_select = NotHeadRemarkPid(df_0)\n",
    "    df_0 = df_0[df_0['PID'].isin(pid_select)]\n",
    "    print('Sub Head&Nerv: \\n' + InfoCollect(df_0))\n",
    "    # df_1 = df_1[df_1['PID'].isin(list(df_0.pid))]\n",
    "    # pd.DataFrame.to_csv(df_1, 'prepare.csv', index=False)"
   ]
  },
  {
   "cell_type": "code",
   "execution_count": 30,
   "metadata": {},
   "outputs": [
    {
     "name": "stdout",
     "output_type": "stream",
     "text": [
      "Raw: \n",
      "Total:722, Succ:519, Fail:203\n",
      "Sub Old: \n",
      "Total:534, Succ:403, Fail:131\n",
      "Sub Head&Nerv: \n",
      "Total:269, Succ:218, Fail:51\n"
     ]
    }
   ],
   "source": [
    "process_mode = ['Extube_SumP12', 'Extube_PSV', 'Extube_NotPSV','Wean_SumP12', 'Wean_PSV']\n",
    "MainProcess('Wean_SumP12')"
   ]
  },
  {
   "cell_type": "code",
   "execution_count": null,
   "metadata": {},
   "outputs": [],
   "source": []
  }
 ],
 "metadata": {
  "interpreter": {
   "hash": "d1d71a6af17584b495c42654570fc1769222613abce4071feffa16d8be625d5a"
  },
  "kernelspec": {
   "display_name": "Python 3.8.8 ('DF_process')",
   "language": "python",
   "name": "python3"
  },
  "language_info": {
   "codemirror_mode": {
    "name": "ipython",
    "version": 3
   },
   "file_extension": ".py",
   "mimetype": "text/x-python",
   "name": "python",
   "nbconvert_exporter": "python",
   "pygments_lexer": "ipython3",
   "version": "3.8.8"
  },
  "orig_nbformat": 4
 },
 "nbformat": 4,
 "nbformat_minor": 2
}
