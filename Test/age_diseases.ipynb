{
 "cells": [
  {
   "cell_type": "code",
   "execution_count": 2,
   "metadata": {},
   "outputs": [],
   "source": [
    "import sqlite3\n",
    "import pandas as pd\n",
    "from pathlib import Path\n",
    "db_loc = Path(r'C:\\Main\\Data\\_\\Database\\sqlite\\RespData_2204.db')\n",
    "csv_loc = Path(r'C:\\Users\\HY_Burger\\Desktop\\Project')\n",
    "def BasicQuery(table_in, form_type):\n",
    "    if form_type == 'extube':\n",
    "        table_f = 'Extube_Info'\n",
    "    elif form_type == 'wean':\n",
    "        table_f = 'Wean_Info'\n",
    "    query_ = '''\n",
    "        SELECT A.*, B.endo_end\n",
    "        FROM {0} as A\n",
    "        INNER JOIN {1} as B\n",
    "        ON A.pid = B.PID\n",
    "        GROUP by A.pid\n",
    "    '''.format(table_f, table_in)\n",
    "    with sqlite3.connect(db_loc) as con:\n",
    "        df_sql = pd.read_sql(query_, con)\n",
    "    return df_sql\n",
    "remark_l = ['remark','RemarkIn','RemarkOut','RemarkInICU','RemarkOutICU']\n",
    "def NotHeadRemarkPid(df):\n",
    "    pid_ = []\n",
    "    for i in df.index:\n",
    "        row = [df.loc[i, j] for j in remark_l]\n",
    "        row = [j for j in row if j]\n",
    "        row = [False if '脑' in j or '神经' in j else True for j in row]\n",
    "        if False in row:\n",
    "            pass\n",
    "        else:\n",
    "            pid_.append(df.loc[i, 'pid'])\n",
    "    return pid_\n",
    "def InfoCollect(df):\n",
    "    info = 'Total:{0}, Succ:{1}, Fail:{2}'.format(df.shape[0], len(df[df.endo_end==0]), len(df[df.endo_end==1]))\n",
    "    return info"
   ]
  },
  {
   "cell_type": "code",
   "execution_count": 3,
   "metadata": {},
   "outputs": [],
   "source": [
    "def MainProcess(form_name):\n",
    "    df_0 = BasicQuery(form_name, form_name.split('_')[0])\n",
    "    df_0.endo_end = [0 if '成功' in i else 1 for i in df_0.endo_end]\n",
    "    df_1 = pd.read_csv(csv_loc/(form_name + '.csv'))\n",
    "    print('Raw: \\n' + InfoCollect(df_0))\n",
    "    df_0 = df_0[df_0.age <= 75]\n",
    "    print('Sub Old: \\n' + InfoCollect(df_0))\n",
    "    pid_select = NotHeadRemarkPid(df_0)\n",
    "    df_0 = df_0[df_0['pid'].isin(pid_select)]\n",
    "    print('Sub Head&Nerv: \\n' + InfoCollect(df_0))\n",
    "    df_1 = df_1[df_1['PID'].isin(list(df_0.pid))]\n",
    "    pd.DataFrame.to_csv(df_1, 'prepare.csv', index=False)"
   ]
  },
  {
   "cell_type": "code",
   "execution_count": 7,
   "metadata": {},
   "outputs": [
    {
     "name": "stdout",
     "output_type": "stream",
     "text": [
      "Raw: \n",
      "Total:855, Succ:649, Fail:206\n",
      "Sub Old: \n",
      "Total:636, Succ:493, Fail:143\n",
      "Sub Head&Nerv: \n",
      "Total:288, Succ:226, Fail:62\n"
     ]
    }
   ],
   "source": [
    "process_mode = ['extube_sump12', 'extube_psv', 'wean_sump12', 'wean_psv']\n",
    "MainProcess('wean_psv')"
   ]
  },
  {
   "cell_type": "code",
   "execution_count": null,
   "metadata": {},
   "outputs": [],
   "source": []
  }
 ],
 "metadata": {
  "interpreter": {
   "hash": "fc883ce4be776a00668950b7133d030a15826a94400e8f6b01ca8fd8f53ab3b3"
  },
  "kernelspec": {
   "display_name": "Python 3.8.8 ('DF_process')",
   "language": "python",
   "name": "python3"
  },
  "language_info": {
   "codemirror_mode": {
    "name": "ipython",
    "version": 3
   },
   "file_extension": ".py",
   "mimetype": "text/x-python",
   "name": "python",
   "nbconvert_exporter": "python",
   "pygments_lexer": "ipython3",
   "version": "3.8.8"
  },
  "orig_nbformat": 4
 },
 "nbformat": 4,
 "nbformat_minor": 2
}
