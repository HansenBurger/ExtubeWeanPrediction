{
 "cells": [
  {
   "cell_type": "code",
   "execution_count": 66,
   "metadata": {},
   "outputs": [],
   "source": [
    "import pathlib, sys, datetime\n",
    "import pandas as pd\n",
    "import numpy as np\n",
    "import seaborn as sns\n",
    "from matplotlib import pyplot as plt\n",
    "\n",
    "\n",
    "main_path = pathlib.Path(r'C:\\Main\\Data\\_\\Result\\Mix')\n",
    "main_folders = [\n",
    "    '20230101_17_VarAnalysis_60m_5m',\n",
    "    '20230101_18_VarAnalysis_60m_10m',\n",
    "    '20230101_19_VarAnalysis_60m_15m',\n",
    "    '20230101_21_VarAnalysis_60m_30m',\n",
    "    '20230101_22_VarAnalysis_60m_60m'\n",
    "]\n",
    "sub_folder = 'Chart\\Extube_SumP12_Nad'\n",
    "pathes = [main_path/f/sub_folder for f in main_folders]"
   ]
  },
  {
   "cell_type": "code",
   "execution_count": 67,
   "metadata": {},
   "outputs": [],
   "source": [
    "def get_bv(df:pd.DataFrame):\n",
    "    inds = df.columns[1:].tolist()\n",
    "    mets = df.index.tolist()\n",
    "    cols, vals = [], []\n",
    "    for m in mets:\n",
    "        for i in inds:\n",
    "            cols.append('-'.join([m, i]))\n",
    "            vals.append(df.loc[m, i])\n",
    "    row = pd.Series(dict(zip(cols, vals)))\n",
    "    return row\n",
    "\n",
    "def SaveGen(p_loc: pathlib.Path, fold_n: str) -> pathlib.Path:\n",
    "    now = datetime.datetime.now()\n",
    "    p_loc = pathlib.Path(p_loc) if not isinstance(p_loc, pathlib.PurePath) else p_loc\n",
    "    fold_pre = '{0}{1}{2}_{3}_'.format(now.year,\n",
    "                                       str(now.month).rjust(2, '0'),\n",
    "                                       str(now.day).rjust(2, '0'),\n",
    "                                       str(now.hour).rjust(2, '0'))\n",
    "    save_loc = p_loc / (fold_pre + fold_n)\n",
    "    save_loc.mkdir(parents=True, exist_ok=True)\n",
    "    return save_loc\n",
    "\n",
    "def main(s_p:pathlib.Path, type_i:int=2):\n",
    "    df_s = []\n",
    "    for path in pathes:\n",
    "        row_p = get_bv(pd.read_csv(path/'P_HeatMap.csv', index_col='method'))\n",
    "        row_auc = get_bv(pd.read_csv(path/'AUC_HeatMap.csv', index_col='method'))\n",
    "        type_n = path.parts[6].split('_')[-1]\n",
    "\n",
    "        with open(s_p / 'info.txt', 'a') as f:\n",
    "            info_l = [type_n, row_p[row_p<0.01].shape[0], row_p[row_p<0.05].shape[0]]\n",
    "            f.write('Scale: {0}\\tP < 0.01: {1}\\tP < 0.05: {2}\\n'.format(*info_l))\n",
    "            \n",
    "        col_n = [type_n+'_'+i for i in ['feat','p','auc'] ]\n",
    "        val_s = [row_p.index.to_list(), row_p.values.tolist(), row_auc.values.tolist()]\n",
    "        df_p = pd.DataFrame(dict(zip(col_n,val_s)))\n",
    "        df_p = df_p.sort_values(by=col_n[1])\n",
    "        df_p = df_p.reset_index(drop=True)\n",
    "        df_p.to_csv(s_p/(type_n+'_scale.csv'),index=False)\n",
    "        df_s.append(df_p)\n",
    "\n",
    "    df = pd.concat(df_s, axis=1)\n",
    "    df.to_csv(s_p/'main.csv', index=False)\n",
    "\n",
    "    return df\n",
    "    \n"
   ]
  },
  {
   "cell_type": "code",
   "execution_count": 82,
   "metadata": {},
   "outputs": [],
   "source": [
    "p_name = 'BreathVarScaleExp'\n",
    "save_path = SaveGen(pathlib.Path(r'C:\\Main\\Data\\_\\Result\\Graph'), p_name)\n",
    "df = main(save_path)\n",
    "df = df.set_index('5m_feat', drop=True)"
   ]
  },
  {
   "cell_type": "code",
   "execution_count": 94,
   "metadata": {},
   "outputs": [],
   "source": [
    "fig, ax = plt.subplots(1,1, figsize=(12,8))\n",
    "feats = df['15m_feat'][0:10]\n",
    "cols = [i for i in df.columns if 'auc' in i]\n",
    "x_axis = [5, 10, 15, 30, 60]\n",
    "for feat in feats:\n",
    "    ax.plot(x_axis, df.loc[feat, cols].values, label=feat)\n",
    "ax.set_xticks(x_axis)\n",
    "fig.tight_layout()\n",
    "plt.legend()\n",
    "fig.savefig(save_path/'chart.png',dpi=300)\n",
    "plt.close()"
   ]
  },
  {
   "cell_type": "code",
   "execution_count": null,
   "metadata": {},
   "outputs": [],
   "source": []
  }
 ],
 "metadata": {
  "kernelspec": {
   "display_name": "DF_process",
   "language": "python",
   "name": "python3"
  },
  "language_info": {
   "codemirror_mode": {
    "name": "ipython",
    "version": 3
   },
   "file_extension": ".py",
   "mimetype": "text/x-python",
   "name": "python",
   "nbconvert_exporter": "python",
   "pygments_lexer": "ipython3",
   "version": "3.8.13"
  },
  "orig_nbformat": 4,
  "vscode": {
   "interpreter": {
    "hash": "d1d71a6af17584b495c42654570fc1769222613abce4071feffa16d8be625d5a"
   }
  }
 },
 "nbformat": 4,
 "nbformat_minor": 2
}
